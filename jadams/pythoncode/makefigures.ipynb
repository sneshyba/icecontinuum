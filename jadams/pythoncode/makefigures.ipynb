{
 "cells": [
  {
   "cell_type": "code",
   "execution_count": 1,
   "metadata": {
    "collapsed": true
   },
   "outputs": [],
   "source": [
    "import numpy as np\n",
    "import matplotlib.pyplot as plt\n",
    "from matplotlib import rcParams"
   ]
  },
  {
   "cell_type": "code",
   "execution_count": 2,
   "metadata": {
    "collapsed": false
   },
   "outputs": [
    {
     "name": "stdout",
     "output_type": "stream",
     "text": [
      "Using matplotlib backend: MacOSX\n"
     ]
    }
   ],
   "source": [
    "%matplotlib \n",
    "ticklabelsize = 15\n",
    "fontsize = 20\n",
    "linewidth = 2\n",
    "rcParams['xtick.labelsize'] = ticklabelsize \n",
    "rcParams['ytick.labelsize'] = ticklabelsize \n",
    "\n"
   ]
  },
  {
   "cell_type": "code",
   "execution_count": 47,
   "metadata": {
    "collapsed": false
   },
   "outputs": [
    {
     "name": "stdout",
     "output_type": "stream",
     "text": [
      "Using matplotlib backend: MacOSX\n",
      "[-0.1536272   4.56680763]\n"
     ]
    }
   ],
   "source": [
    "\n",
    "\n",
    "# kinetic growth rate, micrometers/second\n",
    "nu_kin = 49.0 # micrometers/second\n",
    "\n",
    "# Sigma_I\n",
    "sigma = np.array([\\\n",
    "0.2,\n",
    "0.22,\n",
    "0.24,\n",
    "0.26,\n",
    "0.28,\n",
    "0.3,\n",
    "0.32,\n",
    "0.34,\n",
    "0.36,\n",
    "0.38,\n",
    "0.4,\n",
    "0.42,\n",
    "0.44,\n",
    "0.46,\n",
    "0.48,\n",
    "0.5,\n",
    "0.52,\n",
    "0.54,\n",
    "0.56,\n",
    "0.58,\n",
    "0.6,\n",
    "0.62,\n",
    "0.64,\n",
    "0.66,\n",
    "0.68,\n",
    "0.7,\n",
    "0.72,\n",
    "0.74,\n",
    "0.76,\n",
    "0.78,\n",
    "0.8])\n",
    "\n",
    "# growth rate, micrometers/second\n",
    "v = np.array([\\\n",
    "1.85,\n",
    "3.463,\n",
    "4.718,\n",
    "5.846,\n",
    "6.907,\n",
    "7.928,\n",
    "8.923,\n",
    "9.898,\n",
    "10.86,\n",
    "11.811,\n",
    "12.754,\n",
    "13.690,\n",
    "14.621,\n",
    "15.548,\n",
    "16.471,\n",
    "17.391,\n",
    "18.308,\n",
    "19.223,\n",
    "20.136,\n",
    "21.048,\n",
    "21.958,\n",
    "22.866,\n",
    "23.774,\n",
    "24.680,\n",
    "25.586,\n",
    "26.490,\n",
    "27.394,\n",
    "28.297,\n",
    "29.200,\n",
    "30.102,\n",
    "31.003])\n",
    "alpha = v/nu_kin/sigma\n",
    "plt.semilogy(1./sigma,alpha*100,'o',lw=linewidth)\n",
    "\n",
    "# Fitting\n",
    "startat = 10\n",
    "p = np.polyfit(1./sigma[startat:],np.log(alpha[startat:]*100),1); print p\n",
    "ytheory = np.polyval(p,1./sigma)\n",
    "plt.figure(1)\n",
    "plt.semilogy(1./sigma,np.exp(ytheory),lw=linewidth)\n",
    "\n",
    "# Labeling\n",
    "plt.xlabel(r'$1/ \\sigma_I$',fontsize=fontsize)\n",
    "plt.ylabel(r'$ \\alpha \\times 100$',fontsize=fontsize)\n",
    "plt.legend(['Numerical', 'best-fit linear'])\n",
    "\n",
    "#plt.ylim([18,100])\n",
    "plt.xlim([1,6])\n",
    "plt.grid(True,which=\"both\")\n",
    "\n"
   ]
  },
  {
   "cell_type": "code",
   "execution_count": 35,
   "metadata": {
    "collapsed": false
   },
   "outputs": [
    {
     "name": "stdout",
     "output_type": "stream",
     "text": [
      "[  1.11774823e-03   2.80252805e+00]\n",
      "[ 0.1165  2.918 ]\n",
      "[ 32.64852941   1.15676471]\n"
     ]
    },
    {
     "data": {
      "text/plain": [
       "(4, 18)"
      ]
     },
     "execution_count": 35,
     "metadata": {},
     "output_type": "execute_result"
    }
   ],
   "source": [
    "# fig = plt.figure(2)\n",
    "\n",
    "# fig.clf()\n",
    "# nsub = 5\n",
    "# ymin = 4\n",
    "# ymax = 18\n",
    "\n",
    "# D = np.array([\\\n",
    "# 1.00E-04,\n",
    "# 2.00E-04,\n",
    "# 3.00E-04,\n",
    "# 4.00E-04,\n",
    "# 5.00E-04,\n",
    "# 6.00E-04])\n",
    "# HofD = np.array([\\\n",
    "# 14.02,\n",
    "# 8.20,\n",
    "# 6.90,\n",
    "# 5.23,\n",
    "# 5.01,\n",
    "# 4.84])\n",
    "# ax1 = fig.add_subplot(1,nsub,1)\n",
    "# ax1.plot(1./D/1000, HofD,'o',lw=linewidth)\n",
    "# plt.grid(True)\n",
    "# p = np.polyfit(1./D, HofD, 1); print p\n",
    "# HofDtheory = np.polyval(p,1./D)\n",
    "# ax1.plot(1./D/1000, HofDtheory, lw=linewidth)\n",
    "# ax1.set_xlabel(r'$D^{-1} (\\mu s / \\mu m^2) \\times 1000$',fontsize=fontsize)\n",
    "# ax1.set_ylabel(r'$N_{SS}$',fontsize=fontsize)\n",
    "# ax1.set_ylim([ymin, ymax])\n",
    "\n",
    "\n",
    "# nu_kin = np.array([\\\n",
    "# 20,\n",
    "# 30,\n",
    "# 40,\n",
    "# 50,\n",
    "# 60])\n",
    "# Hofnu = np.array([\\\n",
    "# 5.02,\n",
    "# 6.85,\n",
    "# 7.44,\n",
    "# 8.62,\n",
    "# 9.96])\n",
    "# ax2 = fig.add_subplot(1,nsub,2)\n",
    "# ax2.plot(nu_kin, Hofnu,'o',lw=linewidth)\n",
    "# plt.grid(True)\n",
    "# p = np.polyfit(nu_kin, Hofnu, 1); print p\n",
    "# Hofnutheory = np.polyval(p,nu_kin)\n",
    "# ax2.plot(nu_kin, Hofnutheory, lw=linewidth)\n",
    "# ax2.set_xlabel(r'$\\nu _{kin} (\\mu m / s) $',fontsize=fontsize)\n",
    "# ax2.set_ylim([ymin, ymax])\n",
    "\n",
    "\n",
    "# sigma = np.array([\\\n",
    "# 0.2,\n",
    "# 0.22,\n",
    "# 0.24,\n",
    "# 0.26,\n",
    "# 0.28,\n",
    "# 0.3,\n",
    "# 0.32,\n",
    "# 0.34,\n",
    "# 0.36,\n",
    "# 0.38,\n",
    "# 0.4,\n",
    "# 0.42,\n",
    "# 0.44,\n",
    "# 0.46,\n",
    "# 0.48,\n",
    "# 0.5])\n",
    "# Hofsigma = np.array([\\\n",
    "# 8.20,\n",
    "# 8.12,\n",
    "# 8.85,\n",
    "# 9.35,\n",
    "# 10.06,\n",
    "# 10.96,\n",
    "# 11.84,\n",
    "# 12.08,\n",
    "# 12.91,\n",
    "# 13.72,\n",
    "# 14.33,\n",
    "# 14.93,\n",
    "# 15.80,\n",
    "# 16.12,\n",
    "# 16.95,\n",
    "# 17.12])\n",
    "# ax3 = fig.add_subplot(1,nsub,3)\n",
    "# ax3.plot(sigma*100, Hofsigma,'o',lw=linewidth)\n",
    "# plt.grid(True)\n",
    "# p = np.polyfit(sigma, Hofsigma, 1); print p\n",
    "# Hofsigmatheory = np.polyval(p,sigma)\n",
    "# ax3.plot(sigma*100, Hofsigmatheory, lw=linewidth)\n",
    "# ax3.set_xlabel(r'$\\sigma \\times 100 $',fontsize=fontsize)\n",
    "# ax3.set_ylim([ymin, ymax])\n",
    "\n",
    "# ax4 = fig.add_subplot(1,nsub,4)\n",
    "# ax4.set_xlabel(r'$L^2 (\\mu m^2) $',fontsize=fontsize)\n",
    "# ax4.set_ylim([ymin, ymax])\n",
    "\n",
    "# ax5 = fig.add_subplot(1,nsub,5)\n",
    "# ax5.set_xlabel(r'$c_r $',fontsize=fontsize)\n",
    "# ax5.set_ylim([ymin, ymax])\n",
    "\n"
   ]
  },
  {
   "cell_type": "code",
   "execution_count": 55,
   "metadata": {
    "collapsed": false
   },
   "outputs": [
    {
     "name": "stdout",
     "output_type": "stream",
     "text": [
      "[  1.11774823e-03   2.80252805e+00]\n",
      "[ 0.1165  2.918 ]\n",
      "[ 32.64852941   1.15676471]\n"
     ]
    },
    {
     "data": {
      "text/plain": [
       "<matplotlib.text.Text at 0x1186618d0>"
      ]
     },
     "execution_count": 55,
     "metadata": {},
     "output_type": "execute_result"
    }
   ],
   "source": [
    "fig,ax = plt.subplots(nrows=1, ncols=5, sharey=True, figsize=(20, 6))\n",
    "ymin = 4\n",
    "ymax = 18\n",
    "ax[0].set_ylim([ymin, ymax])\n",
    "ax[0].set_ylabel(r'$N_{SS}$',fontsize=fontsize)\n",
    "\n",
    "\n",
    "D = np.array([\\\n",
    "1.00E-04,\n",
    "2.00E-04,\n",
    "3.00E-04,\n",
    "4.00E-04,\n",
    "5.00E-04,\n",
    "6.00E-04])\n",
    "HofD = np.array([\\\n",
    "14.02,\n",
    "8.20,\n",
    "6.90,\n",
    "5.23,\n",
    "5.01,\n",
    "4.84])\n",
    "ax[0].plot(1./D/1000, HofD,'o',lw=linewidth)\n",
    "ax[0].grid(True)\n",
    "p = np.polyfit(1./D, HofD, 1); print p\n",
    "HofDtheory = np.polyval(p,1./D)\n",
    "ax[0].plot(1./D/1000, HofDtheory, lw=linewidth)\n",
    "ax[0].set_xlabel(r'$D^{-1} (\\mu s / \\mu m^2) \\times 1000$',fontsize=fontsize)\n",
    "\n",
    "\n",
    "nu_kin = np.array([\\\n",
    "20,\n",
    "30,\n",
    "40,\n",
    "50,\n",
    "60])\n",
    "Hofnu = np.array([\\\n",
    "5.02,\n",
    "6.85,\n",
    "7.44,\n",
    "8.62,\n",
    "9.96])\n",
    "ax[1].plot(nu_kin, Hofnu,'o',lw=linewidth)\n",
    "ax[1].grid(True)\n",
    "p = np.polyfit(nu_kin, Hofnu, 1); print p\n",
    "Hofnutheory = np.polyval(p,nu_kin)\n",
    "ax[1].plot(nu_kin, Hofnutheory, lw=linewidth)\n",
    "ax[1].set_xlabel(r'$\\nu _{kin} (\\mu m / s) $',fontsize=fontsize)\n",
    "\n",
    "\n",
    "sigma = np.array([\\\n",
    "0.2,\n",
    "0.22,\n",
    "0.24,\n",
    "0.26,\n",
    "0.28,\n",
    "0.3,\n",
    "0.32,\n",
    "0.34,\n",
    "0.36,\n",
    "0.38,\n",
    "0.4,\n",
    "0.42,\n",
    "0.44,\n",
    "0.46,\n",
    "0.48,\n",
    "0.5])\n",
    "Hofsigma = np.array([\\\n",
    "8.20,\n",
    "8.12,\n",
    "8.85,\n",
    "9.35,\n",
    "10.06,\n",
    "10.96,\n",
    "11.84,\n",
    "12.08,\n",
    "12.91,\n",
    "13.72,\n",
    "14.33,\n",
    "14.93,\n",
    "15.80,\n",
    "16.12,\n",
    "16.95,\n",
    "17.12])\n",
    "ax[2].plot(sigma*100, Hofsigma,'o',lw=linewidth)\n",
    "ax[2].grid(True)\n",
    "p = np.polyfit(sigma, Hofsigma, 1); print p\n",
    "Hofsigmatheory = np.polyval(p,sigma)\n",
    "ax[2].plot(sigma*100, Hofsigmatheory, lw=linewidth)\n",
    "ax[2].set_xlabel(r'$\\sigma \\times 100 $',fontsize=fontsize)\n",
    "\n",
    "ax[3].grid(True)\n",
    "ax[3].set_xlabel(r'$L^2 (\\mu m^2) $',fontsize=fontsize)\n",
    "\n",
    "ax[4].grid(True)\n",
    "ax[4].set_xlabel(r'$c_r $',fontsize=fontsize)\n",
    "\n"
   ]
  },
  {
   "cell_type": "code",
   "execution_count": 61,
   "metadata": {
    "collapsed": false
   },
   "outputs": [],
   "source": [
    "data1 = np.loadtxt('Kelseys fig2.3 data/20ns_top.txt') # data saved from excel as tab-delimited text\n",
    "data2 = np.loadtxt('Kelseys fig2.3 data/20ns_bottom.txt') # data saved from excel as tab-delimited text\n",
    "\n",
    "#fig,ax = plt.subplots(nrows=1, ncols=2, sharey=True, figsize=(13, 6))\n",
    "fig,ax = plt.subplots(nrows=1, ncols=2, figsize=(13, 6))\n",
    "ymin = 175.\n",
    "ymax = 350.\n",
    "\n",
    "time = []\n",
    "\n",
    "for i in range(1001):\n",
    "    time.append(data1[i,0] *20*0.001)  #changes from number of frames to number of nanoseconds\n",
    "\n",
    "\n",
    "ax[0].plot(time,data1[:,1]/240, 'bo-')\n",
    "ax[0].plot(time,data2[:,1]/240, 'g*-')\n",
    "ax[0].set_xlim([0, 1])\n",
    "ax[0].set_xlabel(\"time (ns)\",fontsize=fontsize)\n",
    "ax[0].set_title('(a)',fontsize=fontsize)\n",
    "ax[0].legend(['slab top', 'slab bottom'])\n",
    "ax[0].set_ylabel(r'$N_{QLL} (layer fraction)$',fontsize=fontsize)\n",
    "ax[0].set_ylim([ymin/240, ymax/240])\n",
    "ax[0].grid('on')\n",
    "# for tl in ax[0].get_yticklabels():\n",
    "#     tl.set_get_yticklabel('b')\n",
    "\n",
    "\n",
    "ax[1].plot(time,data1[:,1], 'bo-')\n",
    "ax[1].plot(time,data2[:,1], 'g*-')\n",
    "ax[1].set_xlim([0, 20])\n",
    "ax[1].set_xlabel(\"time (ns)\",fontsize=fontsize)\n",
    "ax[1].set_title('(b)',fontsize=fontsize)\n",
    "ax[1].yaxis.tick_right()\n",
    "ax[1].yaxis.set_label_position('right')\n",
    "ax[1].set_ylabel(r'$N_{QLL} (number)$',fontsize=fontsize)\n",
    "ax[1].set_ylim([ymin, ymax])\n",
    "ax[1].grid('on')\n",
    "\n",
    "plt.subplots_adjust(wspace=.05)\n",
    "\n",
    "\n",
    "plt.show()"
   ]
  },
  {
   "cell_type": "code",
   "execution_count": 4,
   "metadata": {
    "collapsed": true
   },
   "outputs": [
    {
     "data": {
      "text/plain": [
       "u'/Users/Steven/Documents/Repositories/icecontinuum/jadams/pythoncode'"
      ]
     },
     "execution_count": 4,
     "metadata": {},
     "output_type": "execute_result"
    }
   ],
   "source": [
    "Nexcess = []"
   ]
  },
  {
   "cell_type": "code",
   "execution_count": null,
   "metadata": {
    "collapsed": true
   },
   "outputs": [],
   "source": []
  }
 ],
 "metadata": {
  "kernelspec": {
   "display_name": "Python 2",
   "language": "python",
   "name": "python2"
  },
  "language_info": {
   "codemirror_mode": {
    "name": "ipython",
    "version": 2
   },
   "file_extension": ".py",
   "mimetype": "text/x-python",
   "name": "python",
   "nbconvert_exporter": "python",
   "pygments_lexer": "ipython2",
   "version": "2.7.11"
  }
 },
 "nbformat": 4,
 "nbformat_minor": 0
}
