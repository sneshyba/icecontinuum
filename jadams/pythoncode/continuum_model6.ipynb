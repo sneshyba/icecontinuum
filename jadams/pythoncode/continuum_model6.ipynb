{
 "cells": [
  {
   "cell_type": "code",
   "execution_count": 1,
   "metadata": {
    "collapsed": false
   },
   "outputs": [
    {
     "name": "stdout",
     "output_type": "stream",
     "text": [
      "Using matplotlib backend: MacOSX\n"
     ]
    }
   ],
   "source": [
    "import numpy as np\n",
    "from matplotlib import pyplot as plt\n",
    "from matplotlib import rcParams\n",
    "import time\n",
    "import diffusionstuff6 as ds\n",
    "from copy import copy as dup\n",
    "from scipy.integrate import odeint\n",
    "%matplotlib notebook"
   ]
  },
  {
   "cell_type": "code",
   "execution_count": 2,
   "metadata": {
    "collapsed": false
   },
   "outputs": [
    {
     "name": "stdout",
     "output_type": "stream",
     "text": [
      "loading NeshData/continuum_model6 8-3-2016[1][2].npz\n"
     ]
    }
   ],
   "source": [
    "# All the parameters\n",
    "lastfile = 'NeshData/continuum_model6 8-3-2016[1][2].npz'; Load_old_file = True\n",
    "nextfile = 'NeshData/continuum_model6 8-3-2016[1][3].npz'; Save_new_file = True\n",
    "trajfile = 'NeshData/traj.npz'; trajflag = True\n",
    "\n",
    "# Number of iterations to calculate Nliq from Ntot\n",
    "niter = 1\n",
    "\n",
    "# Loading/initializing state\n",
    "if not Load_old_file:\n",
    "\n",
    "    # Message\n",
    "    print \"Starting a new system\"\n",
    "    nx = 500 # Number of points in simulation box\n",
    "    xmax = 50\n",
    "    x = np.linspace(0, xmax, nx)\n",
    "    boxpoints = len(x)\n",
    "    deltaX = x[1]-x[0]\n",
    "    Nbar = 1.0 # new Nbar from VMD, 260K\n",
    "    Nstar = .9/(2*np.pi)\n",
    "\n",
    "    # Initialize as a pre-equilibrated layer of liquid over ice\n",
    "    Nice = np.zeros(boxpoints)+1\n",
    "    Fliq = ds.getNliq(Nice,Nstar,Nbar,niter)\n",
    "\n",
    "else:\n",
    "    \n",
    "    # Message\n",
    "    print \"loading\", lastfile\n",
    "    npzfile = np.load(lastfile)\n",
    "    Fliq = npzfile['Fliq']\n",
    "    Nice = npzfile['Nice']\n",
    "    Nbar = npzfile['Nbar']\n",
    "    Nstar = npzfile['Nstar']\n",
    "    x = npzfile['x']\n",
    "    boxpoints = len(x)\n",
    "    nx = len(x)\n",
    "    deltaX = x[1]-x[0]\n",
    "    \n",
    "# Lay out the system\n",
    "Ntot = Fliq + Nice\n",
    "nmid = int(nx/2)\n",
    "nquart = int(nx/4)\n",
    "xmid = max(x)/2\n",
    "xmax = x[nx-1]\n",
    "Nice_start = Nice[0]\n",
    "Niceoffset = ds.getNiceoffset(Nbar, Nstar, 1, 0) # Should be close to .75; not used if D=const\n",
    "\n",
    "# Just conversions\n",
    "nmpermonolayer = 0.3\n",
    "umpersec_over_mlyperus = (nmpermonolayer/1e3*1e6)\n",
    "\n",
    "# Diffusion coefficient\n",
    "D = 0.02e-2 # micrometers^2/microseconds\n",
    "\n",
    "# Time steps\n",
    "dtmaxtimefactor = 10\n",
    "dtmaxtimefactor = 40\n",
    "dtmax = deltaX**2/D\n",
    "deltaT = dtmax/dtmaxtimefactor\n",
    "\n",
    "# Deposition rate\n",
    "nu_kin = 49 # microns/second\n",
    "deprate = nu_kin/umpersec_over_mlyperus # monolayers per microsecond\n",
    "deprate_times_deltaT = deprate * deltaT\n",
    "\n",
    "# Supersaturation\n",
    "sigma0 = 0.19\n",
    "sigmastepmax = 0.20 # Must be bigger than sigma0 to get growth\n",
    "center_reduction = 0.25 # In percent\n",
    "sigmapfac = 1-center_reduction/100\n",
    "\n",
    "# Diffusion coefficient scaled for this time-step and space-step\n",
    "DoverdeltaX2 = D/deltaX**2\n",
    "\n",
    "# Flag for explicit updating Fliq(Ntot) every step\n",
    "updatingFliq = True\n",
    "\n",
    "# Gets the function sigma(x)\n",
    "fsig = (np.cos(x/xmax*np.pi*2)+1)/2*(1-sigmapfac)+sigmapfac\n",
    "sigmastep = sigmastepmax*fsig\n",
    "# Same as:\n",
    "# sigmastepmin = sigmapfac*sigmastepmax\n",
    "# sigmastep = (np.cos(x/xmax*np.pi*2)+1)/2*(sigmastepmax-sigmastepmin)+sigmastepmin\n",
    "\n",
    "# Set up a maximum number of iterations or layers\n",
    "uselayers = True\n",
    "\n",
    "# 0D run\n",
    "if uselayers:\n",
    "    layermax_0D = 3\n",
    "else:\n",
    "    countermax_0D = 500\n",
    "\n",
    "# 1D run \n",
    "if uselayers:\n",
    "    layermax_1D = 3.0\n",
    "else:\n",
    "    countermax_1D = 1000\n",
    "    \n",
    "# Graphics parameters\n",
    "ticklabelsize = 15\n",
    "fontsize = 20\n",
    "linewidth = 2"
   ]
  },
  {
   "cell_type": "code",
   "execution_count": 3,
   "metadata": {
    "collapsed": false
   },
   "outputs": [
    {
     "name": "stdout",
     "output_type": "stream",
     "text": [
      "D = 0.0002 um^2/us 0.2 x 10^-9 m^2/sec\n",
      "deltaT_max (Diffusion time) 50.200601604\n",
      "deltaT = 1.2550150401\n",
      "deprate = 0.163333333333 monolayers/us\n",
      "nmid 250\n",
      "N* 0.143239448783\n",
      "N*x2pi 0.9\n",
      "Nbar, Nbar-N*, N*/Nbar 1.0 0.856760551217 0.143239448783\n",
      "deltaX 0.100200400802\n",
      "sigma_0 = 0.19\n",
      "sigmastepmax = 0.2\n",
      "center reduction, % 0.25\n",
      "sigmapfac = 0.9975\n",
      "max growth rate = 9.8 um/sec\n",
      "min growth rate = 0.49 um/sec\n",
      "nu_kin = 49 um/sec\n"
     ]
    }
   ],
   "source": [
    "# Reporting\n",
    "print \"D =\", D, 'um^2/us',D * 1e-12*1e6*1e9, 'x 10^-9 m^2/sec'\n",
    "print 'deltaT_max (Diffusion time)', dtmax\n",
    "print 'deltaT =', deltaT\n",
    "print 'deprate =', deprate, 'monolayers/us'\n",
    "print 'nmid', nmid\n",
    "print 'N*', Nstar\n",
    "print 'N*x2pi', Nstar*2*np.pi\n",
    "print 'Nbar, Nbar-N*, N*/Nbar', Nbar, Nbar-Nstar, Nstar/Nbar\n",
    "print 'deltaX', deltaX\n",
    "print 'sigma_0 =', sigma0\n",
    "print 'sigmastepmax =', sigmastepmax\n",
    "print 'center reduction, %', center_reduction\n",
    "print 'sigmapfac =', sigmapfac\n",
    "print 'max growth rate =', deprate*sigmastepmax*umpersec_over_mlyperus, 'um/sec'\n",
    "print 'min growth rate =', deprate*(sigmastepmax-sigma0)*umpersec_over_mlyperus, 'um/sec'\n",
    "print 'nu_kin =', nu_kin, 'um/sec'"
   ]
  },
  {
   "cell_type": "code",
   "execution_count": 4,
   "metadata": {
    "collapsed": false
   },
   "outputs": [
    {
     "name": "stdout",
     "output_type": "stream",
     "text": [
      "0-D Modeled growth rate, um/s 1.90641787959\n",
      "0-D Modeled alpha 0.194532436693\n"
     ]
    }
   ],
   "source": [
    "# This is the 0-d run\n",
    "\n",
    "# Bundle parameters for ODE solver\n",
    "params = [Nbar, Nstar, niter, sigmastepmax, sigma0, deprate]\n",
    "\n",
    "# Initial conditions for ODE solver\n",
    "y0 = [Nbar, 0.0]\n",
    "ylast = dup(y0)\n",
    "\n",
    "# Time steps\n",
    "t0 = 0.0\n",
    "ttot = 0.0\n",
    "tinterval = [t0, deltaT]\n",
    "\n",
    "# Initialize the keeper arrays\n",
    "tkeep_0D = [t0]\n",
    "ykeep_0D = [y0]\n",
    "tlast = dup(t0)\n",
    "Nicelast0 = 0.0\n",
    "Ntotlast0 = 0.0\n",
    "Nicelast_start = 0.0\n",
    "Ntotlast_start = 0.0\n",
    "\n",
    "# Call the ODE solver\n",
    "counter = 0\n",
    "layer = 0\n",
    "while True:\n",
    "    \n",
    "    # Integrate up to next time step\n",
    "    y = odeint(ds.f0d, ylast, tinterval, args=(params,))\n",
    "    ylast = list(y[1,:])\n",
    "    tlast += deltaT\n",
    "    \n",
    "    # Stuff into keeper arrays\n",
    "    ykeep_0D.append(ylast)\n",
    "    tkeep_0D.append(tlast)\n",
    "    \n",
    "    # Make some local copies, with possible updates to Fliq\n",
    "    Fliqlast, Ntotlast = ylast\n",
    "    if updatingFliq:\n",
    "        Fliqlast = ds.getNliq(Ntotlast,Nstar,Nbar,niter) # This updates Fliqlast and ylast!\n",
    "        ykeep_0D[counter][0] = Fliqlast # Saves the updated Fliq for this step\n",
    "    Nicelast = Ntotlast - Fliqlast\n",
    "    Nicelast0 = dup(Nicelast)\n",
    "    Ntotlast0 = dup(Ntotlast)\n",
    "    \n",
    "    # Update counters and see whether to break\n",
    "    counter += 1\n",
    "    layer = dup(Ntotlast0) \n",
    "    if uselayers:\n",
    "        if layer > layermax_0D-1:\n",
    "            break\n",
    "    else:\n",
    "        if counter > countermax_0D-1:\n",
    "            break\n",
    "    \n",
    "# Convert results to a numpy array\n",
    "ykeep_0Darr = np.array(ykeep_0D, np.float64)\n",
    "tkeep_0Darr = np.array(tkeep_0D, np.float64)\n",
    "\n",
    "# Plot results\n",
    "plt.figure(1)\n",
    "rcParams['xtick.labelsize'] = ticklabelsize \n",
    "rcParams['ytick.labelsize'] = ticklabelsize\n",
    "plt.plot(tkeep_0D,ykeep_0Darr[:,0],lw=linewidth)\n",
    "plt.xlabel(r't ($\\mu s$)',fontsize=fontsize)\n",
    "plt.ylabel(r'$N_{QLL} $',fontsize=fontsize)\n",
    "plt.grid('on')\n",
    "\n",
    "# Growth statistics\n",
    "delta_Ntot_0d = Ntotlast0-Ntotlast_start\n",
    "growthrate_0d = delta_Ntot_0d/tlast*umpersec_over_mlyperus\n",
    "print  \"0-D Modeled growth rate, um/s\", growthrate_0d\n",
    "alpha_0d = growthrate_0d/nu_kin/sigmastepmax\n",
    "print  \"0-D Modeled alpha\", alpha_0d"
   ]
  },
  {
   "cell_type": "code",
   "execution_count": 5,
   "metadata": {
    "collapsed": false
   },
   "outputs": [],
   "source": [
    "# This is the 1-d run\n",
    "\n",
    "# Timing\n",
    "sec1 = time.time()\n",
    "\n",
    "# Bundle parameters for ODE solver\n",
    "params = [Nbar, Nstar, niter, sigmastep, sigma0, deprate, DoverdeltaX2, nx]\n",
    "\n",
    "# Initial conditions for ODE solver\n",
    "y0 = list((Fliq,Ntot))\n",
    "ylast = dup(y0)\n",
    "\n",
    "# Time steps\n",
    "t0 = 0.0\n",
    "tlast = dup(t0)\n",
    "ttot = 0.0\n",
    "tinterval = [t0, deltaT]\n",
    "\n",
    "# Initialize the keeper arrays\n",
    "tkeep = [t0]\n",
    "Nicekeep = [dup(Nice)]\n",
    "Ntotkeep = [dup(Ntot)]\n",
    "Fliqkeep = [dup(Fliq)]\n",
    "\n",
    "# Call the ODE solver\n",
    "Nice0_start = Nice[0]\n",
    "Nice0 = Nice[0]\n",
    "Ntot0_start = Ntot[0]\n",
    "Ntot0 = Ntot[0]\n",
    "updatingFliq = True\n",
    "counter = 0\n",
    "while True:\n",
    "    \n",
    "    # Integrate up to next time step\n",
    "    y = odeint(ds.f1d, np.reshape(ylast,2*nx), tinterval, args=(params,))\n",
    "    ylast = np.reshape(y[1],(2,nx))\n",
    "    tlast += deltaT\n",
    "    counter += 1\n",
    "        \n",
    "    # Make some local copies, with possible updates to Fliq\n",
    "    Fliq, Ntot = ylast\n",
    "    if updatingFliq:\n",
    "        Fliq = ds.getNliq(Ntot,Nstar,Nbar,niter) # This updates to remove any drift\n",
    "        ylast[0] = Fliq\n",
    "    Nice = Ntot - Fliq\n",
    "    Nice0 = Nice[0]\n",
    "    Ntot0 = Ntot[0]\n",
    "    ttot += deltaT\n",
    "    \n",
    "    # Stuff into keeper arrays if requested\n",
    "    if trajflag:\n",
    "        Nicekeep.append(Nice)\n",
    "        Ntotkeep.append(Ntot)\n",
    "        Fliqkeep.append(Fliq)\n",
    "        tkeep.append(ttot)\n",
    "        \n",
    "    # Update counters and see whether to break\n",
    "    counter += 1\n",
    "    layer = Ntot0-Ntot0_start\n",
    "    if uselayers:\n",
    "        if layer > layermax_1D-1:\n",
    "            break\n",
    "    else:\n",
    "        if counter > countermax_1D-1:\n",
    "            break"
   ]
  },
  {
   "cell_type": "code",
   "execution_count": 6,
   "metadata": {
    "collapsed": false
   },
   "outputs": [
    {
     "name": "stdout",
     "output_type": "stream",
     "text": [
      "Height of Ice 674.24266627\n",
      "1-D growth, corner 2.00144851929\n",
      "1-D growth, center 2.00943710462\n",
      "1-D Modeled growth rate, um/s 1.83305814346\n",
      "1-D Modeled alpha, corner 0.187046749333\n",
      "1-D Modeled alpha, center 0.187793328074\n",
      "0-D Modeled growth rate, um/s 1.90641787959\n",
      "0-D Modeled alpha 0.194532436693\n",
      "Growth ratio 1D/0D 0.961519592886\n",
      "Libbrecht's predicted growth rate, um/s 1.83935820632\n",
      "Libbrecht's predicted alpha 0.18768961289\n",
      "Time taken: 0 min 13.4701919556 secs\n"
     ]
    }
   ],
   "source": [
    "# Growth statistics\n",
    "minpoint = min(Nice)\n",
    "print\"Height of Ice\", minpoint\n",
    "delta_Ntot_entire = Ntot-Ntotkeep[0]\n",
    "print  \"1-D growth, corner\", delta_Ntot_entire[0]\n",
    "print  \"1-D growth, center\", delta_Ntot_entire[nmid]\n",
    "growthrate_entire = delta_Ntot_entire/ttot*umpersec_over_mlyperus\n",
    "print  \"1-D Modeled growth rate, um/s\", growthrate_entire[0]\n",
    "alpha = growthrate_entire/nu_kin/sigmastepmax\n",
    "print  \"1-D Modeled alpha, corner\", alpha[0]\n",
    "print  \"1-D Modeled alpha, center\", alpha[nmid]\n",
    "\n",
    "# Comparisons with 0-D model\n",
    "print  \"0-D Modeled growth rate, um/s\", growthrate_0d\n",
    "print  \"0-D Modeled alpha\", alpha_0d\n",
    "print  \"Growth ratio 1D/0D\", growthrate_entire[0]/growthrate_0d\n",
    "\n",
    "# Comparisons with Libbrecht\n",
    "sigma0_L = 0.08\n",
    "A_L = .28\n",
    "alpha_L = A_L*np.exp(-sigma0_L/sigmastepmax)\n",
    "print \"Libbrecht's predicted growth rate, um/s\", nu_kin*alpha_L*sigmastepmax\n",
    "print \"Libbrecht's predicted alpha\", alpha_L\n",
    "\n",
    "# Timing statistics\n",
    "sec2 = time.time()\n",
    "print \"Time taken:\", int((sec2-sec1)/60), \"min\", (sec2-sec1)%60, \"secs\"\n",
    "\n",
    "# Plot\n",
    "plt.figure(2)\n",
    "plt.plot(\\\n",
    "         x, Nice-minpoint, 'k', \\\n",
    "         x, Fliq+Nice-minpoint, 'b', \\\n",
    "         x, Fliq, 'g', lw=linewidth)\n",
    "plt.xlabel(r'x ($\\mu m$)',fontsize=fontsize)\n",
    "rcParams['xtick.labelsize'] = ticklabelsize \n",
    "rcParams['ytick.labelsize'] = ticklabelsize\n",
    "plt.grid('on')\n",
    "\n",
    "plt.figure(3)\n",
    "plt.plot(x, alpha, 'k', lw=linewidth)\n",
    "plt.xlabel(r'x ($\\mu m$)',fontsize=fontsize)\n",
    "plt.ylabel(r'$ \\alpha /\\alpha_{corner}  $',fontsize=fontsize)\n",
    "rcParams['xtick.labelsize'] = ticklabelsize \n",
    "rcParams['ytick.labelsize'] = ticklabelsize\n",
    "plt.grid('on')"
   ]
  },
  {
   "cell_type": "code",
   "execution_count": 7,
   "metadata": {
    "collapsed": false
   },
   "outputs": [
    {
     "name": "stdout",
     "output_type": "stream",
     "text": [
      "12.5250501002\n"
     ]
    }
   ],
   "source": [
    "#%matplotlib inline\n",
    "if trajflag:\n",
    "    #plt.figure(4,figsize=(8,4))\n",
    "    plt.figure(4)\n",
    "    #plt.plot(tkeep_0Darr-45.6,ykeep_0Darr[:,0],'k', lw=linewidth)\n",
    "    plt.plot(tkeep, np.array(Fliqkeep)[:,0], 'g-', lw=linewidth)\n",
    "    plt.plot(np.array(tkeep)-18, np.array(Fliqkeep)[:,nquart], 'g--', lw=linewidth)\n",
    "    #plt.plot(np.array(tkeep)+72, np.array(Fliqkeep)[:,nmid], 'g--', lw=linewidth)\n",
    "    fontsize = 20\n",
    "    plt.xlabel(r'time ($\\mu s$)',fontsize=fontsize)\n",
    "    plt.ylabel(r'$N_{qll}$',fontsize=fontsize)\n",
    "    plt.legend(['corner','interior'],loc='lower center')\n",
    "    plt.xlim([90, 280])\n",
    "#     plt.ylim([1.13, 1.145])\n",
    "    plt.grid('on')\n",
    "    print x[nquart]"
   ]
  },
  {
   "cell_type": "code",
   "execution_count": 8,
   "metadata": {
    "collapsed": false
   },
   "outputs": [
    {
     "name": "stdout",
     "output_type": "stream",
     "text": [
      "683.072568464\n",
      "saving to NeshData/continuum_model6 8-3-2016[1][3].npz\n"
     ]
    }
   ],
   "source": [
    "# Saving these results to file\n",
    "print Nice[0]\n",
    "if Nice[0] > 100000:\n",
    "    Nice -= 100000\n",
    "if Save_new_file:\n",
    "    print \"saving to\", nextfile\n",
    "    np.savez_compressed(nextfile, Nice=Nice,\n",
    "                        Fliq=Fliq, Nbar=Nbar, Nstar=Nstar,\n",
    "                        x=x, t=ttot)"
   ]
  },
  {
   "cell_type": "code",
   "execution_count": 9,
   "metadata": {
    "collapsed": false
   },
   "outputs": [
    {
     "name": "stdout",
     "output_type": "stream",
     "text": [
      "saving to NeshData/traj.npz\n"
     ]
    }
   ],
   "source": [
    "if trajflag:\n",
    "    print \"saving to\", trajfile\n",
    "    np.savez_compressed(trajfile, Nice=Nicekeep,\n",
    "                        Fliq=Fliqkeep,\n",
    "                        x=x, t=tkeep)"
   ]
  }
 ],
 "metadata": {
  "kernelspec": {
   "display_name": "Python 2",
   "language": "python",
   "name": "python2"
  },
  "language_info": {
   "codemirror_mode": {
    "name": "ipython",
    "version": 2
   },
   "file_extension": ".py",
   "mimetype": "text/x-python",
   "name": "python",
   "nbconvert_exporter": "python",
   "pygments_lexer": "ipython2",
   "version": "2.7.11"
  }
 },
 "nbformat": 4,
 "nbformat_minor": 0
}
